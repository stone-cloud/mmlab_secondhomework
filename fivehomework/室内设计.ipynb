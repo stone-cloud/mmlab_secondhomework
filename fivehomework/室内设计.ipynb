{
 "cells": [
  {
   "cell_type": "code",
   "execution_count": 2,
   "id": "6c2fa8dd",
   "metadata": {},
   "outputs": [],
   "source": [
    "import os\n",
    "# os.chdir('mmagic')\n",
    "os.getcwd()\n",
    "os.chdir('/root/autodl-tmp/AIsecond/five/mmagic')"
   ]
  },
  {
   "cell_type": "code",
   "execution_count": 1,
   "id": "0809ca29",
   "metadata": {},
   "outputs": [],
   "source": [
    "import cv2\n",
    "import numpy as np\n",
    "import mmcv\n",
    "from mmengine import Config\n",
    "from PIL import Image\n",
    "\n",
    "from mmagic.registry import MODELS\n",
    "from mmagic.utils import register_all_modules\n",
    "\n",
    "register_all_modules()"
   ]
  },
  {
   "cell_type": "code",
   "execution_count": 4,
   "id": "5089b328",
   "metadata": {},
   "outputs": [
    {
     "name": "stdout",
     "output_type": "stream",
     "text": [
      "06/18 22:59:32 - mmengine - INFO - Set model dtype to 'torch.float32'.\n",
      "06/18 22:59:36 - mmengine - INFO - Creating runwayml/stable-diffusion-v1-5 by 'HuggingFace'\n",
      "Do not support Xformers. Please install Xformers first. The program will run without Xformers.\n",
      "06/18 22:59:38 - mmengine - INFO - Set model dtype to 'torch.float32'.\n",
      "Do not support Xformers. Please install Xformers first. The program will run without Xformers.\n"
     ]
    }
   ],
   "source": [
    "cfg = Config.fromfile('configs/controlnet/controlnet-canny.py')\n",
    "controlnet = MODELS.build(cfg.model).cuda()"
   ]
  },
  {
   "cell_type": "code",
   "execution_count": 9,
   "id": "13911bd0",
   "metadata": {},
   "outputs": [],
   "source": [
    "control_url = '/root/autodl-tmp/AIsecond/five/data/maopi2.jpeg'\n",
    "control_img = mmcv.imread(control_url)\n",
    "control = cv2.Canny(control_img, 50, 200)\n",
    "control = control[:, :, None]\n",
    "control = np.concatenate([control] * 3, axis=2)\n",
    "control = Image.fromarray(control)"
   ]
  },
  {
   "cell_type": "code",
   "execution_count": 10,
   "id": "7491c5bd",
   "metadata": {},
   "outputs": [
    {
     "name": "stderr",
     "output_type": "stream",
     "text": [
      "100%|██████████| 20/20 [00:03<00:00,  6.58it/s]\n"
     ]
    }
   ],
   "source": [
    "prompt = 'Room with cyberpunk style.'\n",
    "output_dict = controlnet.infer(prompt, control=control)\n",
    "samples = output_dict['samples']\n",
    "for idx, sample in enumerate(samples):\n",
    "    sample.save(f'sample_{idx}.png')\n",
    "controls = output_dict['controls']\n",
    "for idx, control in enumerate(controls):\n",
    "    control.save(f'control_1.png')"
   ]
  },
  {
   "cell_type": "code",
   "execution_count": 8,
   "id": "7f677a09",
   "metadata": {},
   "outputs": [
    {
     "name": "stderr",
     "output_type": "stream",
     "text": [
      "100%|██████████| 20/20 [00:03<00:00,  6.60it/s]\n"
     ]
    }
   ],
   "source": [
    "prompt = 'The room is designed in cyberpunk style.'\n",
    "output_dict = controlnet.infer(prompt, control=control)\n",
    "samples = output_dict['samples']\n",
    "for idx, sample in enumerate(samples):\n",
    "    sample.save(f'cyberpunk_1.png')\n",
    "controls = output_dict['controls']\n",
    "for idx, control in enumerate(controls):\n",
    "    control.save(f'control_{idx}.png')"
   ]
  },
  {
   "cell_type": "code",
   "execution_count": 14,
   "id": "e85a8356",
   "metadata": {},
   "outputs": [
    {
     "name": "stderr",
     "output_type": "stream",
     "text": [
      "100%|██████████| 20/20 [00:03<00:00,  6.55it/s]\n"
     ]
    }
   ],
   "source": [
    "prompt = 'The room is designed in Chinese Tang Dynasty style.'\n",
    "output_dict = controlnet.infer(prompt, control=control)\n",
    "samples = output_dict['samples']\n",
    "for idx, sample in enumerate(samples):\n",
    "    sample.save(f'Chinese_2.png')\n",
    "controls = output_dict['controls']\n",
    "for idx, control in enumerate(controls):\n",
    "    control.save(f'control_2.png')"
   ]
  },
  {
   "cell_type": "code",
   "execution_count": null,
   "id": "967339d8-edc2-413e-8112-d45a29b3035b",
   "metadata": {},
   "outputs": [],
   "source": []
  }
 ],
 "metadata": {
  "kernelspec": {
   "display_name": "Python 3 (ipykernel)",
   "language": "python",
   "name": "python3"
  },
  "language_info": {
   "codemirror_mode": {
    "name": "ipython",
    "version": 3
   },
   "file_extension": ".py",
   "mimetype": "text/x-python",
   "name": "python",
   "nbconvert_exporter": "python",
   "pygments_lexer": "ipython3",
   "version": "3.8.10"
  }
 },
 "nbformat": 4,
 "nbformat_minor": 5
}
